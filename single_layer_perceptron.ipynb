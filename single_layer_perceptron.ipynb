{
  "nbformat": 4,
  "nbformat_minor": 0,
  "metadata": {
    "colab": {
      "provenance": [],
      "include_colab_link": true
    },
    "kernelspec": {
      "name": "python3",
      "display_name": "Python 3"
    },
    "language_info": {
      "name": "python"
    }
  },
  "cells": [
    {
      "cell_type": "markdown",
      "metadata": {
        "id": "view-in-github",
        "colab_type": "text"
      },
      "source": [
        "<a href=\"https://colab.research.google.com/github/stevansehn/python-single-layer-perceptron/blob/main/single_layer_perceptron.ipynb\" target=\"_parent\"><img src=\"https://colab.research.google.com/assets/colab-badge.svg\" alt=\"Open In Colab\"/></a>"
      ]
    },
    {
      "cell_type": "code",
      "execution_count": 1,
      "metadata": {
        "colab": {
          "base_uri": "https://localhost:8080/"
        },
        "id": "w82LaFK9GtEE",
        "outputId": "65ad9b3b-4034-4a58-9548-d7ecd937fc27"
      },
      "outputs": [
        {
          "output_type": "stream",
          "name": "stdout",
          "text": [
            "Mounted at /content/drive\n"
          ]
        }
      ],
      "source": [
        "from sklearn import preprocessing\n",
        "from sklearn.model_selection import train_test_split\n",
        "from sklearn.metrics import accuracy_score\n",
        "import numpy as np\n",
        "import pandas as pd\n",
        "from google.colab import drive\n",
        "drive.mount('/content/drive')"
      ]
    },
    {
      "cell_type": "code",
      "source": [
        "# Import dataset\n",
        "df = pd.read_csv(\"/content/drive/MyDrive/RNA_Datasets/irisMLP.csv\")\n",
        "\n",
        "y = df.iloc[:, 4].values\n",
        "y = np.where(y == 'Iris-setosa', -1, 1) # Convert from multiclass to binary\n",
        "X = df[['sepal.length', 'sepal.width']].values # Train with only two, lineary-separable features\n",
        "\n",
        "scaler = preprocessing.MinMaxScaler()\n",
        "X = scaler.fit_transform(X) # Normalize the data\n",
        "\n",
        "X_train, X_test, y_train, y_test = train_test_split(X, y, test_size=0.30, random_state=42)\n",
        "\n",
        "# Initialize weights and bias\n",
        "n_samples, n_features = X_train.shape\n",
        "weights = np.zeros(n_features)\n",
        "bias = 0\n",
        "learning_rate = 0.1\n",
        "precision = 0\n",
        "error_prev = 0\n",
        "epoch = 1\n",
        "\n",
        "# Array to store weights for each epoch\n",
        "weights_history = []\n",
        "\n",
        "# Training loop\n",
        "for i in range(1, 10):\n",
        "\n",
        "  for xi, target in zip(X_train, y_train):\n",
        "    # Compute the prediction\n",
        "    linear_output = np.dot(xi, weights) - bias\n",
        "    prediction = np.sign(linear_output)\n",
        "    error = target - prediction\n",
        "    if error != 0:\n",
        "      # Update weights and bias\n",
        "      update = learning_rate * error\n",
        "      weights += update * xi\n",
        "      bias += update * (-1)\n",
        "\n",
        "  # Store weights after this epoch\n",
        "  weights_history.append(weights.copy())\n",
        "\n",
        "  # Increment epoch count\n",
        "  epoch += 1\n",
        "\n",
        "predictions = []\n",
        "\n",
        "for xi, target in zip(X_test, y_test):\n",
        "  # Compute the prediction\n",
        "  linear_output = np.dot(xi, weights) - bias\n",
        "  prediction = np.sign(linear_output)\n",
        "  predictions.append(prediction)\n",
        "\n",
        "predictions_test = np.array(predictions)\n",
        "\n",
        "test_score = accuracy_score(predictions_test, y_test)\n",
        "\n",
        "print(\"Training epochs: \", epoch)\n",
        "print(\"Accuracy score: \", test_score)"
      ],
      "metadata": {
        "colab": {
          "base_uri": "https://localhost:8080/"
        },
        "id": "BXmyuomjRHGu",
        "outputId": "c0ad2ab8-0b14-4568-cceb-56cbbbeaad2e"
      },
      "execution_count": 14,
      "outputs": [
        {
          "output_type": "stream",
          "name": "stdout",
          "text": [
            "Training epochs:  10\n",
            "Accuracy score:  1.0\n"
          ]
        }
      ]
    },
    {
      "cell_type": "code",
      "source": [],
      "metadata": {
        "id": "6OTfF1iXv-Kl"
      },
      "execution_count": null,
      "outputs": []
    }
  ]
}