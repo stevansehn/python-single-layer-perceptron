{
  "nbformat": 4,
  "nbformat_minor": 0,
  "metadata": {
    "colab": {
      "provenance": [],
      "include_colab_link": true
    },
    "kernelspec": {
      "name": "python3",
      "display_name": "Python 3"
    },
    "language_info": {
      "name": "python"
    }
  },
  "cells": [
    {
      "cell_type": "markdown",
      "metadata": {
        "id": "view-in-github",
        "colab_type": "text"
      },
      "source": [
        "<a href=\"https://colab.research.google.com/github/stevansehn/python-single-layer-perceptron/blob/main/Copy_of_iris_dataset_study.ipynb\" target=\"_parent\"><img src=\"https://colab.research.google.com/assets/colab-badge.svg\" alt=\"Open In Colab\"/></a>"
      ]
    },
    {
      "cell_type": "code",
      "execution_count": 4,
      "metadata": {
        "colab": {
          "base_uri": "https://localhost:8080/"
        },
        "id": "w82LaFK9GtEE",
        "outputId": "8f7790c5-3772-4eb4-930a-478734b9124a"
      },
      "outputs": [
        {
          "output_type": "stream",
          "name": "stdout",
          "text": [
            "Drive already mounted at /content/drive; to attempt to forcibly remount, call drive.mount(\"/content/drive\", force_remount=True).\n"
          ]
        }
      ],
      "source": [
        "from sklearn import preprocessing\n",
        "from sklearn.model_selection import train_test_split\n",
        "from sklearn.metrics import mean_squared_error, accuracy_score\n",
        "import numpy as np\n",
        "import pandas as pd\n",
        "from google.colab import drive\n",
        "drive.mount('/content/drive')"
      ]
    },
    {
      "cell_type": "code",
      "source": [
        "# Import dataset\n",
        "df = pd.read_csv(\"/content/drive/MyDrive/RNA_Datasets/irisMLP.csv\")\n",
        "\n",
        "y = df.iloc[:, 4].values\n",
        "y = np.where(y == 'Iris-setosa', -1, 1) # Convert from multiclass to binary\n",
        "X = df[['sepal.length', 'sepal.width']].values # Train with only two, lineary-separable features\n",
        "\n",
        "scaler = preprocessing.MinMaxScaler()\n",
        "X = scaler.fit_transform(X) # Normalize the data\n",
        "\n",
        "X_train, X_test, y_train, y_test = train_test_split(X, y, test_size=0.30, random_state=42)\n",
        "\n",
        "# Initialize weights and bias\n",
        "n_samples, n_features = X_train.shape\n",
        "weights = np.zeros(n_features)\n",
        "bias = 0\n",
        "learning_rate = 0.1\n",
        "convergence_threshold = 1e-6\n",
        "mse_prev = 0\n",
        "epoch = 1\n",
        "\n",
        "# Array to store weights for each epoch\n",
        "weights_history = []\n",
        "\n",
        "# Training loop\n",
        "for i in range(100):\n",
        "  predictions = []\n",
        "\n",
        "  for xi, target in zip(X_train, y_train):\n",
        "    # Compute the prediction\n",
        "    linear_output = np.dot(xi, weights) - bias\n",
        "    prediction = np.sign(linear_output)\n",
        "    predictions.append(prediction)\n",
        "\n",
        "    # Update weights and bias\n",
        "    update = learning_rate * (target - prediction)\n",
        "    weights += update * xi\n",
        "    bias += update * (-1)\n",
        "\n",
        "  # Store weights after this epoch\n",
        "  weights_history.append(weights.copy())\n",
        "\n",
        "  # Compute MSE and MSE delta for this epoch\n",
        "  predictions_array = np.array(predictions)\n",
        "  mse = mean_squared_error(predictions_array, y_train)\n",
        "  mse_delta = np.absolute(mse - mse_prev)\n",
        "\n",
        "  # Stop criterion\n",
        "  if (mse_delta <= convergence_threshold):\n",
        "    break\n",
        "\n",
        "  # update previous MSE\n",
        "  mse_prev = mse\n",
        "\n",
        "  # Increment epoch count\n",
        "  epoch += 1\n",
        "\n",
        "predictions = []\n",
        "\n",
        "for xi, target in zip(X_test, y_test):\n",
        "  # Compute the prediction\n",
        "  linear_output = np.dot(xi, weights) - bias\n",
        "  prediction = np.sign(linear_output)\n",
        "  predictions.append(prediction)\n",
        "\n",
        "predictions_test = np.array(predictions)\n",
        "\n",
        "test_score = accuracy_score(predictions_test, y_test)\n",
        "\n",
        "print(\"Training epochs: \", epoch)\n",
        "print(\"Accuracy score: \", test_score)"
      ],
      "metadata": {
        "colab": {
          "base_uri": "https://localhost:8080/"
        },
        "id": "BXmyuomjRHGu",
        "outputId": "04744f05-6754-4829-f296-b46a89517119"
      },
      "execution_count": 9,
      "outputs": [
        {
          "output_type": "stream",
          "name": "stdout",
          "text": [
            "Training epochs:  7\n",
            "Accuracy score:  1.0\n"
          ]
        }
      ]
    }
  ]
}